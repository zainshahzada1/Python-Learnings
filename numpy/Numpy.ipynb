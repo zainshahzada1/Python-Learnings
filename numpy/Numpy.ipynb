{
 "cells": [
  {
   "cell_type": "code",
   "execution_count": 125,
   "id": "29eea4a6",
   "metadata": {},
   "outputs": [],
   "source": [
    "import numpy as np"
   ]
  },
  {
   "cell_type": "code",
   "execution_count": 126,
   "id": "53dbcf9f",
   "metadata": {},
   "outputs": [],
   "source": [
    "ar = np.array([1, 2, 3, 4])"
   ]
  },
  {
   "cell_type": "code",
   "execution_count": 127,
   "id": "bde71a4d",
   "metadata": {},
   "outputs": [
    {
     "data": {
      "text/plain": [
       "array([[ 1,  2,  3,  4,  5,  6,  7],\n",
       "       [ 8,  9, 10, 11, 12, 13, 14]])"
      ]
     },
     "execution_count": 127,
     "metadata": {},
     "output_type": "execute_result"
    }
   ],
   "source": [
    "ar_2 = np.array([[1,2,3,4,5,6,7],\n",
    "                 [8, 9, 10,11,12,13,14]])\n",
    "ar_2\n"
   ]
  },
  {
   "cell_type": "code",
   "execution_count": 128,
   "id": "a518c45e",
   "metadata": {},
   "outputs": [
    {
     "data": {
      "text/plain": [
       "array([2, 9])"
      ]
     },
     "execution_count": 128,
     "metadata": {},
     "output_type": "execute_result"
    }
   ],
   "source": [
    "#columns\n",
    "ar_2[:,1]"
   ]
  },
  {
   "cell_type": "code",
   "execution_count": 129,
   "id": "65f37834",
   "metadata": {},
   "outputs": [
    {
     "data": {
      "text/plain": [
       "array([[ 8,  9, 10, 11, 12, 13, 14]])"
      ]
     },
     "execution_count": 129,
     "metadata": {},
     "output_type": "execute_result"
    }
   ],
   "source": [
    "#Rows\n",
    "ar_2[1:,]"
   ]
  },
  {
   "cell_type": "code",
   "execution_count": 130,
   "id": "8f746bd8",
   "metadata": {},
   "outputs": [
    {
     "data": {
      "text/plain": [
       "array([2, 4, 6])"
      ]
     },
     "execution_count": 130,
     "metadata": {},
     "output_type": "execute_result"
    }
   ],
   "source": [
    "ar_2[0,1:6:2]"
   ]
  },
  {
   "cell_type": "code",
   "execution_count": 131,
   "id": "b9bec1fb",
   "metadata": {},
   "outputs": [],
   "source": [
    "ar_2[1,5]=20"
   ]
  },
  {
   "cell_type": "code",
   "execution_count": 132,
   "id": "22809c71",
   "metadata": {},
   "outputs": [
    {
     "data": {
      "text/plain": [
       "array([[ 1,  2,  3,  4,  5,  6,  7],\n",
       "       [ 8,  9, 10, 11, 12, 20, 14]])"
      ]
     },
     "execution_count": 132,
     "metadata": {},
     "output_type": "execute_result"
    }
   ],
   "source": [
    "ar_2"
   ]
  },
  {
   "cell_type": "code",
   "execution_count": 133,
   "id": "9528420e",
   "metadata": {},
   "outputs": [
    {
     "data": {
      "text/plain": [
       "array([[ 1,  2,  1,  4,  5,  6,  7],\n",
       "       [ 8,  9,  2, 11, 12, 20, 14]])"
      ]
     },
     "execution_count": 133,
     "metadata": {},
     "output_type": "execute_result"
    }
   ],
   "source": [
    "ar_2[:,2]=[1,2]\n",
    "ar_2"
   ]
  },
  {
   "cell_type": "code",
   "execution_count": 134,
   "id": "0ab26c23",
   "metadata": {},
   "outputs": [],
   "source": [
    "b = np.array([[[10, 11, 12], [13, 14, 15], [16, 17, 18]],\n",
    "              [[20, 21, 22], [23, 24, 25], [26, 27, 28]],\n",
    "              [[30, 31, 32], [33, 34, 35], [36, 37, 38]]])\n",
    "\n"
   ]
  },
  {
   "cell_type": "markdown",
   "id": "93a9010b",
   "metadata": {},
   "source": [
    "https://www.pythoninformer.com/python-libraries/numpy/index-and-slice/\n",
    "3D\n",
    "The first index, i, selects the matrix\n",
    "The second index, j, selects the row\n",
    "The third index, k, selects the column"
   ]
  },
  {
   "cell_type": "code",
   "execution_count": 135,
   "id": "ee6f5114",
   "metadata": {},
   "outputs": [
    {
     "data": {
      "text/plain": [
       "array([[10, 13, 16],\n",
       "       [20, 23, 26],\n",
       "       [30, 33, 36]])"
      ]
     },
     "execution_count": 135,
     "metadata": {},
     "output_type": "execute_result"
    }
   ],
   "source": [
    "# b[i,r,c]\n",
    "b[:,:,0]\n"
   ]
  },
  {
   "cell_type": "code",
   "execution_count": 136,
   "id": "4e69b913",
   "metadata": {},
   "outputs": [
    {
     "data": {
      "text/plain": [
       "array([[99, 99],\n",
       "       [99, 99]])"
      ]
     },
     "execution_count": 136,
     "metadata": {},
     "output_type": "execute_result"
    }
   ],
   "source": [
    "np.full((2,2),99)"
   ]
  },
  {
   "cell_type": "code",
   "execution_count": 137,
   "id": "e6cc0fbb",
   "metadata": {},
   "outputs": [
    {
     "data": {
      "text/plain": [
       "(2, 7)"
      ]
     },
     "execution_count": 137,
     "metadata": {},
     "output_type": "execute_result"
    }
   ],
   "source": [
    "ar_2.shape"
   ]
  },
  {
   "cell_type": "code",
   "execution_count": 138,
   "id": "3c2c50b8",
   "metadata": {},
   "outputs": [
    {
     "data": {
      "text/plain": [
       "array([[45, 45, 45, 45, 45, 45, 45],\n",
       "       [45, 45, 45, 45, 45, 45, 45]])"
      ]
     },
     "execution_count": 138,
     "metadata": {},
     "output_type": "execute_result"
    }
   ],
   "source": [
    "np.full(ar_2.shape,45)"
   ]
  },
  {
   "cell_type": "code",
   "execution_count": 139,
   "id": "af93aa49",
   "metadata": {},
   "outputs": [
    {
     "data": {
      "text/plain": [
       "array([[55, 55, 55, 55, 55, 55, 55],\n",
       "       [55, 55, 55, 55, 55, 55, 55]])"
      ]
     },
     "execution_count": 139,
     "metadata": {},
     "output_type": "execute_result"
    }
   ],
   "source": [
    "np.full_like(ar_2,55)"
   ]
  },
  {
   "cell_type": "code",
   "execution_count": 140,
   "id": "217aa98d",
   "metadata": {},
   "outputs": [
    {
     "data": {
      "text/plain": [
       "array([[0.81356025, 0.40743393, 0.73647165],\n",
       "       [0.65059747, 0.08790788, 0.70528445]])"
      ]
     },
     "execution_count": 140,
     "metadata": {},
     "output_type": "execute_result"
    }
   ],
   "source": [
    "#random decimal Number\n",
    "np.random.rand(2,3)"
   ]
  },
  {
   "cell_type": "code",
   "execution_count": 141,
   "id": "fb62d632",
   "metadata": {},
   "outputs": [
    {
     "data": {
      "text/plain": [
       "array([[[0.49524728, 0.33197334],\n",
       "        [0.81344798, 0.33040635]],\n",
       "\n",
       "       [[0.52553075, 0.16966403],\n",
       "        [0.96609737, 0.28465444]],\n",
       "\n",
       "       [[0.99351487, 0.23760901],\n",
       "        [0.34162071, 0.95033918]]])"
      ]
     },
     "execution_count": 141,
     "metadata": {},
     "output_type": "execute_result"
    }
   ],
   "source": [
    "np.random.rand(3,2,2)"
   ]
  },
  {
   "cell_type": "code",
   "execution_count": 142,
   "id": "97aa4924",
   "metadata": {},
   "outputs": [
    {
     "data": {
      "text/plain": [
       "array([[0.52393689, 0.15620516, 0.70736899, 0.8146631 , 0.56572696,\n",
       "        0.35123849, 0.45466174],\n",
       "       [0.34471945, 0.75376257, 0.04329884, 0.94356977, 0.33607915,\n",
       "        0.8112968 , 0.07384797]])"
      ]
     },
     "execution_count": 142,
     "metadata": {},
     "output_type": "execute_result"
    }
   ],
   "source": [
    "np.random.random_sample(ar_2.shape)"
   ]
  },
  {
   "cell_type": "code",
   "execution_count": 143,
   "id": "b479aaab",
   "metadata": {},
   "outputs": [
    {
     "data": {
      "text/plain": [
       "array([[1, 5, 2],\n",
       "       [6, 4, 1]])"
      ]
     },
     "execution_count": 143,
     "metadata": {},
     "output_type": "execute_result"
    }
   ],
   "source": [
    "np.random.randint(1,7,size=(2,3))"
   ]
  },
  {
   "cell_type": "code",
   "execution_count": 144,
   "id": "3854edf5",
   "metadata": {},
   "outputs": [
    {
     "data": {
      "text/plain": [
       "array([[1., 0., 0., 0., 0.],\n",
       "       [0., 1., 0., 0., 0.],\n",
       "       [0., 0., 1., 0., 0.],\n",
       "       [0., 0., 0., 1., 0.],\n",
       "       [0., 0., 0., 0., 1.]])"
      ]
     },
     "execution_count": 144,
     "metadata": {},
     "output_type": "execute_result"
    }
   ],
   "source": [
    "#identity Matrix\n",
    "np.identity(5)"
   ]
  },
  {
   "cell_type": "code",
   "execution_count": 145,
   "id": "f1ea2200",
   "metadata": {},
   "outputs": [
    {
     "name": "stdout",
     "output_type": "stream",
     "text": [
      "[[1 2 3]\n",
      " [1 2 3]\n",
      " [1 2 3]]\n"
     ]
    }
   ],
   "source": [
    "ar=np.array([[1,2,3]])\n",
    "r1=np.repeat(ar,3,axis=0)\n",
    "print(r1)"
   ]
  },
  {
   "cell_type": "code",
   "execution_count": 146,
   "id": "6cfaf261",
   "metadata": {},
   "outputs": [],
   "source": [
    "#to Make\n",
    "a =[[1, 1, 1, 1, 1],\n",
    "    [1, 0, 0, 0, 1],\n",
    "    [1, 0, 9, 0, 1],\n",
    "    [1, 0, 0, 0, 1],\n",
    "    [1, 1, 1, 1, 1]]\n"
   ]
  },
  {
   "cell_type": "code",
   "execution_count": 147,
   "id": "afbb1ef7",
   "metadata": {},
   "outputs": [
    {
     "name": "stdout",
     "output_type": "stream",
     "text": [
      "[[1 1 1 1 1]\n",
      " [1 1 1 1 1]\n",
      " [1 1 1 1 1]\n",
      " [1 1 1 1 1]\n",
      " [1 1 1 1 1]]\n"
     ]
    }
   ],
   "source": [
    "m = np.ones((5, 5),dtype='int32')\n",
    "print(m)\n"
   ]
  },
  {
   "cell_type": "code",
   "execution_count": 148,
   "id": "c00dc949",
   "metadata": {},
   "outputs": [
    {
     "name": "stdout",
     "output_type": "stream",
     "text": [
      "[[0 0 0]\n",
      " [0 0 0]\n",
      " [0 0 0]]\n"
     ]
    }
   ],
   "source": [
    "n=np.zeros((3,3),dtype='int32')\n",
    "print(n)"
   ]
  },
  {
   "cell_type": "code",
   "execution_count": 149,
   "id": "1ba44b6f",
   "metadata": {},
   "outputs": [
    {
     "name": "stdout",
     "output_type": "stream",
     "text": [
      "[[0 0 0]\n",
      " [0 9 0]\n",
      " [0 0 0]]\n"
     ]
    }
   ],
   "source": [
    "n[1,1]=9\n",
    "print(n)"
   ]
  },
  {
   "cell_type": "code",
   "execution_count": 150,
   "id": "d36cb4c2",
   "metadata": {},
   "outputs": [
    {
     "data": {
      "text/plain": [
       "array([[1, 1, 1, 1, 1],\n",
       "       [1, 0, 0, 0, 1],\n",
       "       [1, 0, 9, 0, 1],\n",
       "       [1, 0, 0, 0, 1],\n",
       "       [1, 1, 1, 1, 1]])"
      ]
     },
     "execution_count": 150,
     "metadata": {},
     "output_type": "execute_result"
    }
   ],
   "source": [
    "m[1:4,1:4]=n\n",
    "m"
   ]
  },
  {
   "cell_type": "code",
   "execution_count": 158,
   "id": "e985e6d4",
   "metadata": {},
   "outputs": [
    {
     "name": "stdout",
     "output_type": "stream",
     "text": [
      "[1 2 3 4]\n"
     ]
    }
   ],
   "source": [
    "a = np.array([1, 2, 3, 4])\n",
    "print(a)"
   ]
  },
  {
   "cell_type": "code",
   "execution_count": 161,
   "id": "9ef3e943",
   "metadata": {},
   "outputs": [
    {
     "name": "stdout",
     "output_type": "stream",
     "text": [
      "[ 4  8 12 16]\n"
     ]
    }
   ],
   "source": [
    "a*=2\n",
    "print(a)\n"
   ]
  },
  {
   "cell_type": "code",
   "execution_count": 176,
   "id": "a3315375",
   "metadata": {},
   "outputs": [
    {
     "data": {
      "text/plain": [
       "(array([[1, 1, 1],\n",
       "        [1, 1, 1]]),\n",
       " array([[2, 2],\n",
       "        [2, 2],\n",
       "        [2, 2]]))"
      ]
     },
     "execution_count": 176,
     "metadata": {},
     "output_type": "execute_result"
    }
   ],
   "source": [
    "a=np.ones((2,3),dtype='int32')\n",
    "b = np.full((3, 2), 2, dtype='int32')\n",
    "a,b\n"
   ]
  },
  {
   "cell_type": "code",
   "execution_count": 179,
   "id": "697a91db",
   "metadata": {},
   "outputs": [
    {
     "name": "stdout",
     "output_type": "stream",
     "text": [
      "[[6 6]\n",
      " [6 6]]\n"
     ]
    }
   ],
   "source": [
    "c=np.matmul(a,b)\n",
    "print(c)"
   ]
  },
  {
   "cell_type": "code",
   "execution_count": 188,
   "id": "478b4195",
   "metadata": {},
   "outputs": [
    {
     "name": "stdout",
     "output_type": "stream",
     "text": [
      "0\n"
     ]
    }
   ],
   "source": [
    "d=np.linalg.det(c.astype(int))\n",
    "print(int(d))"
   ]
  }
 ],
 "metadata": {
  "kernelspec": {
   "display_name": "Python 3 (ipykernel)",
   "language": "python",
   "name": "python3"
  },
  "language_info": {
   "codemirror_mode": {
    "name": "ipython",
    "version": 3
   },
   "file_extension": ".py",
   "mimetype": "text/x-python",
   "name": "python",
   "nbconvert_exporter": "python",
   "pygments_lexer": "ipython3",
   "version": "3.9.10"
  }
 },
 "nbformat": 4,
 "nbformat_minor": 5
}
